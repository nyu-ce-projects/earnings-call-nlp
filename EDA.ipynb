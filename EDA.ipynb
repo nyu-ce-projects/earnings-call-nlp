{
  "cells": [
    {
      "cell_type": "code",
      "execution_count": 154,
      "metadata": {
        "colab": {
          "base_uri": "https://localhost:8080/"
        },
        "id": "KjVAL3i6LZK3",
        "outputId": "0c925a33-0d0f-41f9-b0e3-eb6ece17c42b"
      },
      "outputs": [
        {
          "name": "stdout",
          "output_type": "stream",
          "text": [
            "Drive already mounted at /content/drive; to attempt to forcibly remount, call drive.mount(\"/content/drive\", force_remount=True).\n",
            "[Errno 2] No such file or directory: 'drive/MyDrive/Academics/NLP/earnings-call-nlp'\n",
            "/content/drive/MyDrive/Academics/NLP/earnings-call-nlp\n"
          ]
        }
      ],
      "source": [
        "# from google.colab import drive\n",
        "# drive.mount('/content/drive')\n",
        "# %cd drive/MyDrive/Academics/NLP/earnings-call-nlp"
      ]
    },
    {
      "cell_type": "code",
      "execution_count": 155,
      "metadata": {
        "id": "zGB49MjML-wi"
      },
      "outputs": [],
      "source": [
        "import os\n",
        "import json\n",
        "import numpy as np\n",
        "import pandas as pd\n",
        "from sklearn.model_selection import train_test_split\n",
        "import pandas as pd\n",
        "import matplotlib.pyplot as plt"
      ]
    },
    {
      "cell_type": "code",
      "execution_count": 156,
      "metadata": {
        "id": "chlH8ANxMOhk"
      },
      "outputs": [],
      "source": [
        "files = [\"data/FIQA_SA/task1_post_ABSA_train.json\", \"data/FIQA_SA/task1_headline_ABSA_train.json\"]"
      ]
    },
    {
      "cell_type": "code",
      "execution_count": 157,
      "metadata": {
        "id": "14AMORyGMg4d"
      },
      "outputs": [],
      "source": [
        "data = pd.DataFrame(columns=[\"_id\", \"sentence\", \"aspect1\", \"aspect2\", \"sentiment_score\"])\n",
        "data_dict = {}\n",
        "for _f in files:\n",
        "    current_data = json.loads(open(_f, \"r\").read())\n",
        "    data_dict.update(current_data)\n",
        "for _id, item_dict in data_dict.items():\n",
        "    sentence = item_dict[\"sentence\"]\n",
        "    aspects = item_dict[\"info\"][0][\"aspects\"][2:-2]\n",
        "    aspects_list = aspects.split('/')\n",
        "    aspect1 = aspects_list[0]\n",
        "    aspect2 = aspects_list[1] if(len(aspects_list)>1) else None\n",
        "    sentiment_score = float(item_dict[\"info\"][0][\"sentiment_score\"])\n",
        "    data.loc[len(data)] = [_id, sentence, aspect1, aspect2, sentiment_score]"
      ]
    },
    {
      "cell_type": "code",
      "execution_count": 94,
      "metadata": {
        "id": "lQP-kifaNWq-"
      },
      "outputs": [],
      "source": [
        "#plt.scatter(data._id, data.sentiment_score)"
      ]
    },
    {
      "cell_type": "code",
      "execution_count": 153,
      "metadata": {
        "colab": {
          "base_uri": "https://localhost:8080/",
          "height": 458
        },
        "id": "fLue6w9jogpH",
        "outputId": "5f6f4327-3286-42f3-9134-e995afd8adca"
      },
      "outputs": [
        {
          "data": {
            "image/png": "[encoded data removed]",
            "text/plain": [
              "<Figure size 720x504 with 1 Axes>"
            ]
          },
          "metadata": {
            "needs_background": "light"
          },
          "output_type": "display_data"
        }
      ],
      "source": [
        "# the histogram of the data\n",
        "n, bins, patches = plt.hist(data.sentiment_score, 18, density=False, facecolor='g', alpha=0.65)\n",
        "\n",
        "plt.xlabel('Sentiments Score')\n",
        "plt.ylabel('Number of Samples')\n",
        "plt.title('Histogram of Sentiments Score')\n",
        "plt.grid(True)\n",
        "plt.show()"
      ]
    },
    {
      "cell_type": "code",
      "execution_count": 158,
      "metadata": {
        "colab": {
          "base_uri": "https://localhost:8080/"
        },
        "id": "ikWnTFEAXNAQ",
        "outputId": "411fa56d-8c59-4e5e-aec9-7c9e07b5d6db"
      },
      "outputs": [
        {
          "data": {
            "text/plain": [
              "array(['Stock', 'Market', 'Corporate', 'Economy'], dtype=object)"
            ]
          },
          "execution_count": 158,
          "metadata": {},
          "output_type": "execute_result"
        }
      ],
      "source": [
        "data.aspect1.unique()"
      ]
    },
    {
      "cell_type": "code",
      "execution_count": 159,
      "metadata": {
        "id": "zlBhOSwFOdNq"
      },
      "outputs": [],
      "source": [
        "df_stock = data.loc[data.aspect1 == \"Stock\"]\n",
        "df_stock_PriceAction = df_stock.loc[ df_stock.aspect2 == \"Price Action\"]\n",
        "stock_PriceAction = df_stock_PriceAction.shape[0]"
      ]
    },
    {
      "cell_type": "code",
      "execution_count": 160,
      "metadata": {
        "id": "VWNtTMlnUcn7"
      },
      "outputs": [],
      "source": [
        "df_stock = data.loc[data.aspect1 == \"Stock\"]\n",
        "df_stock_Others = df_stock.loc[ df_stock.aspect2 != \"Price Action\"]\n",
        "stock_Others = df_stock_Others.shape[0]\n",
        "\n",
        "df_corporate = data.loc[data.aspect1 == \"Corporate\"]\n",
        "corporate = df_corporate.shape[0]\n",
        "\n",
        "df_market = data.loc[data.aspect1 == \"Market\"]\n",
        "market = df_market.shape[0]\n",
        "\n",
        "df_economy = data.loc[data.aspect1 == \"Economy\"]\n",
        "economy = df_economy.shape[0]"
      ]
    },
    {
      "cell_type": "code",
      "execution_count": 161,
      "metadata": {
        "id": "Q5NHmzrhWwEL"
      },
      "outputs": [],
      "source": [
        "ls_count = [stock_PriceAction,stock_Others,corporate,market,economy]\n",
        "ls_aspects = ['Stock/PriceAction','Stock/Others', 'Corporate', 'Market',  'Economy']"
      ]
    },
    {
      "cell_type": "code",
      "execution_count": 199,
      "metadata": {
        "colab": {
          "base_uri": "https://localhost:8080/",
          "height": 577
        },
        "id": "UnGP636PXyJT",
        "outputId": "a0574152-cc5d-45eb-e115-e8a2334f94e0"
      },
      "outputs": [
        {
          "data": {
            "image/png": "[encoded data removed]",
            "text/plain": [
              "<Figure size 576x576 with 1 Axes>"
            ]
          },
          "metadata": {
            "needs_background": "light"
          },
          "output_type": "display_data"
        }
      ],
      "source": [
        "fig, ax = plt.subplots()\n",
        "figsize=(800,100)\n",
        "plt.rcParams['figure.figsize'] = [8, 8]\n",
        "plt.rcParams.update({'font.size': 14})\n",
        "# Save the chart so we can loop through the bars below.\n",
        "bars = ax.bar(\n",
        "    x=[0,1,2,3,4],\n",
        "    height=ls_count,\n",
        "    tick_label=ls_aspects\n",
        ")\n",
        "\n",
        "# Axis formatting.\n",
        "ax.spines['top'].set_visible(False)\n",
        "ax.spines['right'].set_visible(False)\n",
        "ax.spines['left'].set_visible(False)\n",
        "ax.spines['bottom'].set_color('#DDDDDD')\n",
        "ax.tick_params(bottom=False, left=False)\n",
        "ax.set_xticklabels(ls_aspects, rotation = 10)\n",
        "ax.set_axisbelow(True)\n",
        "ax.yaxis.grid(True, color='#EEEEEE')\n",
        "ax.xaxis.grid(False)\n",
        "\n",
        "# Add text annotations to the top of the bars.\n",
        "bar_color = bars[0].get_facecolor()\n",
        "for bar in bars:\n",
        "  ax.text(\n",
        "      bar.get_x() + bar.get_width() / 2,\n",
        "      bar.get_height() + 0.3,\n",
        "      round(bar.get_height(), 1),\n",
        "      horizontalalignment='center',\n",
        "      color=bar_color,\n",
        "      weight='bold'\n",
        "  )\n",
        "ax.grid(linestyle='-', linewidth=1)\n",
        "# Add labels and a title. Note the use of `labelpad` and `pad` to add some\n",
        "# extra space between the text and the tick labels.\n",
        "#ax.xticks(rotation=45, ha=\"right\")\n",
        "ax.set_xlabel('Aspects', labelpad=5, color='#333333')\n",
        "ax.set_ylabel('Number of Samples', labelpad=5, color='#333333')\n",
        "ax.set_title('Distribution of Aspects in Dataset', pad=15, color='#333333')\n",
        "ax.patch.set_edgecolor('black')  \n",
        "ax.patch.set_linewidth('2')  \n",
        "fig.tight_layout()"
      ]
    }
  ],
  "metadata": {
    "colab": {
      "provenance": []
    },
    "kernelspec": {
      "display_name": "Python 3.9.13 64-bit (microsoft store)",
      "language": "python",
      "name": "python3"
    },
    "language_info": {
      "name": "python",
      "version": "3.9.13"
    },
    "vscode": {
      "interpreter": {
        "hash": "8a3654063fff79484c997d86b7d6214e2b5f13e81da2ce73e0f9cef0d9efa10d"
      }
    }
  },
  "nbformat": 4,
  "nbformat_minor": 0
}
